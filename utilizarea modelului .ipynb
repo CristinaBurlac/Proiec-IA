{
 "cells": [
  {
   "cell_type": "code",
   "execution_count": 3,
   "id": "2e89c45a",
   "metadata": {},
   "outputs": [],
   "source": [
    "from sklearn.base import BaseEstimator,TransformerMixin"
   ]
  },
  {
   "cell_type": "code",
   "execution_count": 4,
   "id": "14f4f2b3",
   "metadata": {},
   "outputs": [],
   "source": [
    "class TextNormalizer(BaseEstimator,TransformerMixin):\n",
    "    def fit(self,x, y=None):\n",
    "        return self\n",
    "    \n",
    "    def transform(self,x, y=None):\n",
    "        x_copy=x.copy()\n",
    "        for i in range(len(x_copy)):\n",
    "            x_copy[i]=x_copy[i].lower()\n",
    "            x_copy[i]=x_copy[i].replace('\\n',' ')\n",
    "            x_copy[i]=x_copy[i].replace('\\r',' ')\n",
    "            x_copy[i]=x_copy[i].strip()\n",
    "        return x_copy"
   ]
  },
  {
   "cell_type": "code",
   "execution_count": 5,
   "id": "9f7573f0",
   "metadata": {},
   "outputs": [],
   "source": [
    "class WordExtractor (BaseEstimator,TransformerMixin):\n",
    "    def __init__(self,language,tokenize):\n",
    "        self.language=language\n",
    "        self.stopwords=stopwords.words(self.language)\n",
    "        self.tokenize=tokenize\n",
    "        \n",
    "    def fit(self,x, y=None):\n",
    "                general_freq=FreqDist()\n",
    "                for txt in x:\n",
    "                    freq_dist=FreqDist(self.tokenize(txt))\n",
    "                    general_freq.update(freq_dist)\n",
    "                self.hapaxes=general_freq.hapaxes()\n",
    "                return self\n",
    "                \n",
    "    def  transform(self,x, y=None):\n",
    "        x_copy=x.copy()\n",
    "        for i in range(len(x_copy)):\n",
    "            x_copy[i]=' '.join([token for token in self.tokenize(x_copy[i])\n",
    "                               if token not in self.stopwords and\n",
    "                               token not in self.hapaxes])\n",
    "            return x_copy"
   ]
  },
  {
   "cell_type": "code",
   "execution_count": 6,
   "id": "c339ad6c",
   "metadata": {},
   "outputs": [],
   "source": [
    "class ApplyStemmer(BaseEstimator,TransformerMixin):\n",
    "    def __init__(self,stemmer,tokenize):\n",
    "        self.stemmer=stemmer\n",
    "        self.tokenize=tokenize\n",
    "        \n",
    "    def fit(self,x, y=None):\n",
    "            return self\n",
    "        \n",
    "    def transform(self,x, y=None):\n",
    "        x_copy=x.copy()\n",
    "        for i in range(len(x_copy)):\n",
    "            x_copy[i]=' '.join([self.stemmer.stem(token)\n",
    "                               for token in self.tokenize(x_copy[i])])\n",
    "        return x_copy"
   ]
  },
  {
   "cell_type": "code",
   "execution_count": 7,
   "id": "a2843721",
   "metadata": {},
   "outputs": [],
   "source": [
    "import pickle\n",
    "model=pickle.load(open('pipe.pkl','rb'))"
   ]
  },
  {
   "cell_type": "code",
   "execution_count": 8,
   "id": "1c92cb49",
   "metadata": {},
   "outputs": [
    {
     "data": {
      "text/plain": [
       "array(['FAKE'], dtype=object)"
      ]
     },
     "execution_count": 8,
     "metadata": {},
     "output_type": "execute_result"
    }
   ],
   "source": [
    "model.predict(['Free stuff online'])"
   ]
  },
  {
   "cell_type": "code",
   "execution_count": null,
   "id": "0dcd97c1",
   "metadata": {},
   "outputs": [],
   "source": []
  }
 ],
 "metadata": {
  "kernelspec": {
   "display_name": "Python 3",
   "language": "python",
   "name": "python3"
  },
  "language_info": {
   "codemirror_mode": {
    "name": "ipython",
    "version": 3
   },
   "file_extension": ".py",
   "mimetype": "text/x-python",
   "name": "python",
   "nbconvert_exporter": "python",
   "pygments_lexer": "ipython3",
   "version": "3.7.9"
  }
 },
 "nbformat": 4,
 "nbformat_minor": 5
}
